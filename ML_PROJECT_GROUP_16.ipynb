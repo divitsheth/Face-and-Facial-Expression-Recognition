{
  "metadata": {
    "kernelspec": {
      "language": "python",
      "display_name": "Python 3",
      "name": "python3"
    },
    "language_info": {
      "pygments_lexer": "ipython3",
      "nbconvert_exporter": "python",
      "version": "3.6.4",
      "file_extension": ".py",
      "codemirror_mode": {
        "name": "ipython",
        "version": 3
      },
      "name": "python",
      "mimetype": "text/x-python"
    },
    "colab": {
      "name": "ml1 (2).ipynb",
      "provenance": [],
      "collapsed_sections": []
    }
  },
  "nbformat_minor": 0,
  "nbformat": 4,
  "cells": [
    {
      "cell_type": "markdown",
      "source": [
        "## Import Packages"
      ],
      "metadata": {
        "id": "bZ7joIg-vtdp"
      }
    },
    {
      "cell_type": "code",
      "source": [
        "import numpy as np\n",
        "import pandas as pd\n",
        "import matplotlib.pyplot as plt\n",
        "import matplotlib.image as mpimg\n",
        "import pickle\n",
        "\n",
        "from sklearn.model_selection import train_test_split\n",
        "\n",
        "import tensorflow as tf\n",
        "from tensorflow.keras.models import Sequential\n",
        "from tensorflow.keras.layers import *\n",
        "from tensorflow.keras.preprocessing.image import ImageDataGenerator\n",
        "from tensorflow.keras.regularizers import l2"
      ],
      "metadata": {
        "execution": {
          "iopub.status.busy": "2021-12-11T09:47:33.70647Z",
          "iopub.execute_input": "2021-12-11T09:47:33.70724Z",
          "iopub.status.idle": "2021-12-11T09:47:40.754983Z",
          "shell.execute_reply.started": "2021-12-11T09:47:33.707143Z",
          "shell.execute_reply": "2021-12-11T09:47:40.75381Z"
        },
        "trusted": true,
        "id": "P45_ZFuKvtdq"
      },
      "execution_count": null,
      "outputs": []
    },
    {
      "cell_type": "code",
      "source": [
        "from google.colab import drive\n",
        "drive.mount('/content/gdrive')"
      ],
      "metadata": {
        "id": "AUbi4-J3xNVV"
      },
      "execution_count": null,
      "outputs": []
    },
    {
      "cell_type": "markdown",
      "source": [
        "## Load Training DataFrame"
      ],
      "metadata": {
        "id": "x-3smMmBvtdr"
      }
    },
    {
      "cell_type": "code",
      "source": [
        "train = pd.read_csv('/content/gdrive/MyDrive/data (1)/train.csv')\n",
        "print(train.shape)"
      ],
      "metadata": {
        "execution": {
          "iopub.status.busy": "2021-12-11T09:47:45.805048Z",
          "iopub.execute_input": "2021-12-11T09:47:45.805569Z",
          "iopub.status.idle": "2021-12-11T09:47:50.368549Z",
          "shell.execute_reply.started": "2021-12-11T09:47:45.805524Z",
          "shell.execute_reply": "2021-12-11T09:47:50.367567Z"
        },
        "trusted": true,
        "id": "ERzPxjGevtds"
      },
      "execution_count": null,
      "outputs": []
    },
    {
      "cell_type": "code",
      "source": [
        "train.head(10)"
      ],
      "metadata": {
        "execution": {
          "iopub.status.busy": "2021-12-11T09:48:20.129961Z",
          "iopub.execute_input": "2021-12-11T09:48:20.130237Z",
          "iopub.status.idle": "2021-12-11T09:48:20.154295Z",
          "shell.execute_reply.started": "2021-12-11T09:48:20.130206Z",
          "shell.execute_reply": "2021-12-11T09:48:20.153344Z"
        },
        "trusted": true,
        "id": "YyBN3eFZvtdt"
      },
      "execution_count": null,
      "outputs": []
    },
    {
      "cell_type": "markdown",
      "source": [
        "## Label Distribution"
      ],
      "metadata": {
        "id": "qSboR6ZIvtdt"
      }
    },
    {
      "cell_type": "code",
      "source": [
        "emotion_prop = (train.emotion.value_counts() / len(train)).to_frame().sort_index(ascending=True)\n",
        "emotion_prop"
      ],
      "metadata": {
        "execution": {
          "iopub.status.busy": "2021-12-11T09:48:24.891622Z",
          "iopub.execute_input": "2021-12-11T09:48:24.891931Z",
          "iopub.status.idle": "2021-12-11T09:48:24.917779Z",
          "shell.execute_reply.started": "2021-12-11T09:48:24.891897Z",
          "shell.execute_reply": "2021-12-11T09:48:24.916568Z"
        },
        "trusted": true,
        "id": "x9It9knWvtdu"
      },
      "execution_count": null,
      "outputs": []
    },
    {
      "cell_type": "code",
      "source": [
        "emotions = ['Angry','Disgust','Fear','Happy','Sad','Surprise','Neutral']"
      ],
      "metadata": {
        "execution": {
          "iopub.status.busy": "2021-12-11T09:49:14.635138Z",
          "iopub.execute_input": "2021-12-11T09:49:14.635422Z",
          "iopub.status.idle": "2021-12-11T09:49:14.64133Z",
          "shell.execute_reply.started": "2021-12-11T09:49:14.635391Z",
          "shell.execute_reply": "2021-12-11T09:49:14.640135Z"
        },
        "trusted": true,
        "id": "VxcyG2htvtdu"
      },
      "execution_count": null,
      "outputs": []
    },
    {
      "cell_type": "markdown",
      "source": [
        "## View Sample of Images"
      ],
      "metadata": {
        "id": "xiYP-rpivtdw"
      }
    },
    {
      "cell_type": "code",
      "source": [
        "def pixels_to_array(pixels):\n",
        "    array = np.array(pixels.split(),'float64')\n",
        "    return array\n",
        "\n",
        "def image_reshape(data):\n",
        "    image = np.reshape(data['pixels'].to_list(),(data.shape[0],48,48,1))\n",
        "    return image"
      ],
      "metadata": {
        "execution": {
          "iopub.status.busy": "2021-12-11T09:49:25.783834Z",
          "iopub.execute_input": "2021-12-11T09:49:25.784105Z",
          "iopub.status.idle": "2021-12-11T09:49:25.791553Z",
          "shell.execute_reply.started": "2021-12-11T09:49:25.784075Z",
          "shell.execute_reply": "2021-12-11T09:49:25.790325Z"
        },
        "trusted": true,
        "id": "2qDW5TYPvtdw"
      },
      "execution_count": null,
      "outputs": []
    },
    {
      "cell_type": "markdown",
      "source": [
        "Conversion"
      ],
      "metadata": {
        "id": "IiczyyLhvtdx"
      }
    },
    {
      "cell_type": "code",
      "source": [
        "#CNN\n",
        "train['pixels'] = train['pixels'].apply(pixels_to_array)\n",
        "X = image_reshape(train)\n",
        "y = train['emotion']"
      ],
      "metadata": {
        "execution": {
          "iopub.status.busy": "2021-12-11T09:49:32.193026Z",
          "iopub.execute_input": "2021-12-11T09:49:32.193968Z",
          "iopub.status.idle": "2021-12-11T09:49:53.34174Z",
          "shell.execute_reply.started": "2021-12-11T09:49:32.193921Z",
          "shell.execute_reply": "2021-12-11T09:49:53.340851Z"
        },
        "trusted": true,
        "id": "4gizEzOKvtdx"
      },
      "execution_count": null,
      "outputs": []
    },
    {
      "cell_type": "code",
      "source": [
        "#SVM AND PCA\n",
        "X_lin = train.drop(\"emotion\",axis=1)\n",
        "X_lin = np.reshape(train['pixels'].to_list(),(train.shape[0],2304))\n",
        "new = pd.DataFrame(X_lin)\n",
        "new"
      ],
      "metadata": {
        "id": "0WG6D1aSf2Pt"
      },
      "execution_count": null,
      "outputs": []
    },
    {
      "cell_type": "markdown",
      "source": [
        "## Split Data"
      ],
      "metadata": {
        "id": "VSzfeeGwvtdy"
      }
    },
    {
      "cell_type": "code",
      "source": [
        "from sklearn.preprocessing import StandardScaler\n",
        "scaler = StandardScaler()\n",
        "X_train, X_valid, y_train, y_valid = train_test_split(X, y, test_size=0.2, random_state=1)\n",
        "X_train_lin, X_valid_lin, y_train_lin, y_valid_lin = train_test_split(new, y, test_size=0.3, random_state=1)\n",
        "X_train_lin = scaler.fit_transform(X_train_lin)\n",
        "X_valid_lin = scaler.transform(X_valid_lin)"
      ],
      "metadata": {
        "execution": {
          "iopub.status.busy": "2021-12-11T09:50:02.004473Z",
          "iopub.execute_input": "2021-12-11T09:50:02.004805Z",
          "iopub.status.idle": "2021-12-11T09:50:02.202976Z",
          "shell.execute_reply.started": "2021-12-11T09:50:02.004771Z",
          "shell.execute_reply": "2021-12-11T09:50:02.202054Z"
        },
        "trusted": true,
        "id": "utr-EQCSvtdy"
      },
      "execution_count": null,
      "outputs": []
    },
    {
      "cell_type": "code",
      "source": [
        "from sklearn.decomposition import PCA\n",
        "pca = PCA(n_components=3)\n",
        "scaler = StandardScaler()\n",
        "X_train_lin_pca = pca.fit_transform(X_train_lin)\n",
        "X_valid_lin_pca = pca.transform(X_valid_lin)\n",
        "X_train_lin_pca = scaler.fit_transform(X_train_lin)\n",
        "X_valid_lin_pca = scaler.transform(X_valid_lin)"
      ],
      "metadata": {
        "id": "Jk1rAXH2_RGX"
      },
      "execution_count": null,
      "outputs": []
    },
    {
      "cell_type": "code",
      "source": [
        "print(X_train.shape)\n",
        "print(y_train.shape)\n",
        "print(X_valid.shape)\n",
        "print(y_valid.shape)"
      ],
      "metadata": {
        "execution": {
          "iopub.status.busy": "2021-12-11T09:50:04.995513Z",
          "iopub.execute_input": "2021-12-11T09:50:04.996263Z",
          "iopub.status.idle": "2021-12-11T09:50:05.004049Z",
          "shell.execute_reply.started": "2021-12-11T09:50:04.996219Z",
          "shell.execute_reply": "2021-12-11T09:50:05.00256Z"
        },
        "trusted": true,
        "id": "cZK19_Wtvtdz"
      },
      "execution_count": null,
      "outputs": []
    },
    {
      "cell_type": "code",
      "source": [
        "print(X_train_lin.shape)\n",
        "print(y_train_lin.shape)\n",
        "print(X_valid_lin.shape)\n",
        "print(y_valid_lin.shape)"
      ],
      "metadata": {
        "id": "M6oicf4ifqgB"
      },
      "execution_count": null,
      "outputs": []
    },
    {
      "cell_type": "markdown",
      "source": [
        "SVM"
      ],
      "metadata": {
        "id": "Nl537M0nx8aS"
      }
    },
    {
      "cell_type": "code",
      "source": [
        "from sklearn.svm import SVC\n",
        "classifier = SVC(kernel='rbf', random_state = 1)\n",
        "classifier.fit(X_train_lin,y_train_lin)"
      ],
      "metadata": {
        "id": "fMZKfsV8h4YS"
      },
      "execution_count": null,
      "outputs": []
    },
    {
      "cell_type": "code",
      "source": [
        "Y_pred = classifier.predict(X_valid_lin)\n",
        "from sklearn.metrics import confusion_matrix\n",
        "cm = confusion_matrix(y_valid_lin,Y_pred)\n",
        "accuracy = float(cm.diagonal().sum())/len(y_valid_lin)\n",
        "print(\"\\nAccuracy Of SVM For The Given Dataset : \", accuracy)"
      ],
      "metadata": {
        "id": "VkKk2OQHjB-X"
      },
      "execution_count": null,
      "outputs": []
    },
    {
      "cell_type": "code",
      "source": [
        "#@title\n",
        "cm"
      ],
      "metadata": {
        "cellView": "form",
        "id": "WhygacqCEfG3"
      },
      "execution_count": null,
      "outputs": []
    },
    {
      "cell_type": "code",
      "source": [
        "# import pickle\n",
        "# # save the model to disk\n",
        "filename = 'finalized_model_1.sav'\n",
        "pickle.dump(classifier, open(filename, 'wb'))\n",
        " \n",
        "# load the model from disk\n",
        "loaded_model = pickle.load(open(filename, 'rb'))\n",
        "result = loaded_model.score(X_valid_lin, y_valid_lin)"
      ],
      "metadata": {
        "id": "6PiH478r230w"
      },
      "execution_count": null,
      "outputs": []
    },
    {
      "cell_type": "code",
      "source": [
        "result"
      ],
      "metadata": {
        "id": "lMwKnJOr2enY"
      },
      "execution_count": null,
      "outputs": []
    },
    {
      "cell_type": "markdown",
      "source": [
        "SVM+PCA"
      ],
      "metadata": {
        "id": "gIrAy6IKx9qC"
      }
    },
    {
      "cell_type": "code",
      "source": [
        "from sklearn.svm import SVC\n",
        "classifier_1 = SVC(kernel='rbf', random_state = 1)\n",
        "classifier_1.fit(X_train_lin_pca,y_train_lin)"
      ],
      "metadata": {
        "id": "K0uBcW4C2RGK"
      },
      "execution_count": null,
      "outputs": []
    },
    {
      "cell_type": "code",
      "source": [
        "Y_pred_pca = classifier_1.predict(X_valid_lin_pca)\n",
        "from sklearn.metrics import confusion_matrix\n",
        "cm = confusion_matrix(y_valid_lin,Y_pred_pca)\n",
        "accuracy = float(cm.diagonal().sum())/len(y_valid_lin)\n",
        "print(\"\\nAccuracy Of SVM+PCA For The Given Dataset : \", accuracy)"
      ],
      "metadata": {
        "id": "zHGf6oxf2U4k"
      },
      "execution_count": null,
      "outputs": []
    },
    {
      "cell_type": "code",
      "source": [
        "cm"
      ],
      "metadata": {
        "id": "eB6x2oOCvUTr"
      },
      "execution_count": null,
      "outputs": []
    },
    {
      "cell_type": "code",
      "source": [
        "import pickle\n",
        "# save the model to disk\n",
        "filename = 'finalized_model_2.sav'\n",
        "pickle.dump(classifier_1, open(filename, 'wb'))\n",
        " \n",
        "# load the model from disk\n",
        "loaded_model = pickle.load(open(filename, 'rb'))\n",
        "result = loaded_model.score(X_valid_lin_pca, y_valid_lin)"
      ],
      "metadata": {
        "id": "u8kcH0fx1juf"
      },
      "execution_count": null,
      "outputs": []
    },
    {
      "cell_type": "markdown",
      "source": [
        "## Build Network"
      ],
      "metadata": {
        "id": "K5HI1QQ0vtdz"
      }
    },
    {
      "cell_type": "code",
      "source": [
        "np.random.seed(1)\n",
        "tf.random.set_seed(1)\n",
        "\n",
        "cnn = Sequential([\n",
        "    Conv2D(64, (3,3), activation = 'relu', padding = 'same', input_shape=(48,48,1)),\n",
        "    Conv2D(64, (3,3), activation = 'relu', padding = 'same'),\n",
        "    MaxPooling2D(2,2),\n",
        "    Dropout(0.25),\n",
        "    BatchNormalization(),\n",
        "\n",
        "    Conv2D(128, (3,3), activation = 'relu', padding = 'same'),\n",
        "    Conv2D(128, (3,3), activation = 'relu', padding = 'same'),\n",
        "    MaxPooling2D(2,2),\n",
        "    Dropout(0.5),\n",
        "    BatchNormalization(),\n",
        "    \n",
        "    Conv2D(64, (3,3), activation = 'relu', padding = 'same'),\n",
        "    Conv2D(64, (3,3), activation = 'relu', padding = 'same'),\n",
        "    MaxPooling2D(2,2),\n",
        "    Dropout(0.5),\n",
        "    BatchNormalization(),\n",
        "\n",
        "    Flatten(),\n",
        "    \n",
        "    Dense(128, activation='relu'),\n",
        "    Dropout(0.5),\n",
        "    Dense(64, activation='relu'),\n",
        "    Dropout(0.25),\n",
        "    BatchNormalization(),\n",
        "    Dense(7, activation='softmax')\n",
        "])\n",
        "\n",
        "cnn.summary()"
      ],
      "metadata": {
        "execution": {
          "iopub.status.busy": "2021-12-11T09:50:10.66994Z",
          "iopub.execute_input": "2021-12-11T09:50:10.670773Z",
          "iopub.status.idle": "2021-12-11T09:50:13.748522Z",
          "shell.execute_reply.started": "2021-12-11T09:50:10.670736Z",
          "shell.execute_reply": "2021-12-11T09:50:13.747535Z"
        },
        "trusted": true,
        "id": "t3mGFg9rvtdz"
      },
      "execution_count": null,
      "outputs": []
    },
    {
      "cell_type": "markdown",
      "source": [
        "## Train Network"
      ],
      "metadata": {
        "id": "uMoptjMtvtd0"
      }
    },
    {
      "cell_type": "code",
      "source": [
        "opt = tf.keras.optimizers.Adam(0.001)\n",
        "cnn.compile(loss='sparse_categorical_crossentropy', optimizer=opt, metrics=['accuracy'])"
      ],
      "metadata": {
        "execution": {
          "iopub.status.busy": "2021-11-16T15:25:36.026986Z",
          "iopub.execute_input": "2021-11-16T15:25:36.027259Z",
          "iopub.status.idle": "2021-11-16T15:25:36.043672Z",
          "shell.execute_reply.started": "2021-11-16T15:25:36.02723Z",
          "shell.execute_reply": "2021-11-16T15:25:36.042774Z"
        },
        "trusted": true,
        "id": "M9pO6Klgvtd0"
      },
      "execution_count": null,
      "outputs": []
    },
    {
      "cell_type": "code",
      "source": [
        "%%time \n",
        "\n",
        "h1 = cnn.fit(\n",
        "    X_train, y_train, \n",
        "    batch_size=256,\n",
        "    epochs = 20,\n",
        "    verbose = 1,\n",
        "    validation_data = (X_valid, y_valid)\n",
        ")\n",
        "\n",
        "cnn.summary()"
      ],
      "metadata": {
        "execution": {
          "iopub.status.busy": "2021-11-16T15:26:36.185935Z",
          "iopub.execute_input": "2021-11-16T15:26:36.186197Z",
          "iopub.status.idle": "2021-11-16T15:28:19.930888Z",
          "shell.execute_reply.started": "2021-11-16T15:26:36.186167Z",
          "shell.execute_reply": "2021-11-16T15:28:19.930173Z"
        },
        "trusted": true,
        "id": "8hk_e-DNvtd0"
      },
      "execution_count": null,
      "outputs": []
    },
    {
      "cell_type": "code",
      "source": [
        "history = h1.history\n",
        "print(history.keys())"
      ],
      "metadata": {
        "execution": {
          "iopub.status.busy": "2021-11-15T14:38:02.46865Z",
          "iopub.execute_input": "2021-11-15T14:38:02.46925Z",
          "iopub.status.idle": "2021-11-15T14:38:02.473867Z",
          "shell.execute_reply.started": "2021-11-15T14:38:02.469207Z",
          "shell.execute_reply": "2021-11-15T14:38:02.472814Z"
        },
        "trusted": true,
        "id": "zT0jUiT4vtd1"
      },
      "execution_count": null,
      "outputs": []
    },
    {
      "cell_type": "code",
      "source": [
        "epoch_range = range(1, len(history['loss'])+1)\n",
        "\n",
        "plt.figure(figsize=[14,4])\n",
        "plt.subplot(1,2,1)\n",
        "plt.plot(epoch_range, history['loss'], label='Training')\n",
        "plt.plot(epoch_range, history['val_loss'], label='Validation')\n",
        "plt.xlabel('Epoch'); plt.ylabel('Loss'); plt.title('Loss')\n",
        "plt.legend()\n",
        "plt.subplot(1,2,2)\n",
        "plt.plot(epoch_range, history['accuracy'], label='Training')\n",
        "plt.plot(epoch_range, history['val_accuracy'], label='Validation')\n",
        "plt.xlabel('Epoch'); plt.ylabel('Accuracy'); plt.title('Accuracy')\n",
        "plt.legend()\n",
        "plt.tight_layout()\n",
        "plt.show()"
      ],
      "metadata": {
        "execution": {
          "iopub.status.busy": "2021-11-15T14:38:08.432337Z",
          "iopub.execute_input": "2021-11-15T14:38:08.432613Z",
          "iopub.status.idle": "2021-11-15T14:38:08.870712Z",
          "shell.execute_reply.started": "2021-11-15T14:38:08.43258Z",
          "shell.execute_reply": "2021-11-15T14:38:08.870018Z"
        },
        "trusted": true,
        "id": "BjusQcKHvtd3"
      },
      "execution_count": null,
      "outputs": []
    },
    {
      "cell_type": "code",
      "source": [
        "tf.keras.backend.set_value(cnn.optimizer.learning_rate, 0.0001)"
      ],
      "metadata": {
        "execution": {
          "iopub.status.busy": "2021-11-16T15:31:06.792231Z",
          "iopub.execute_input": "2021-11-16T15:31:06.7926Z",
          "iopub.status.idle": "2021-11-16T15:31:06.797868Z",
          "shell.execute_reply.started": "2021-11-16T15:31:06.792563Z",
          "shell.execute_reply": "2021-11-16T15:31:06.797027Z"
        },
        "trusted": true,
        "id": "O_HCy5r4vtd3"
      },
      "execution_count": null,
      "outputs": []
    },
    {
      "cell_type": "code",
      "source": [
        "%%time \n",
        "\n",
        "h2 = cnn.fit(\n",
        "    X_train, y_train, \n",
        "    batch_size=256,\n",
        "    epochs = 20,\n",
        "    verbose = 1,\n",
        "    validation_data = (X_valid, y_valid)\n",
        ")"
      ],
      "metadata": {
        "execution": {
          "iopub.status.busy": "2021-11-16T15:31:12.19089Z",
          "iopub.execute_input": "2021-11-16T15:31:12.191165Z",
          "iopub.status.idle": "2021-11-16T15:32:46.718819Z",
          "shell.execute_reply.started": "2021-11-16T15:31:12.191135Z",
          "shell.execute_reply": "2021-11-16T15:32:46.718109Z"
        },
        "trusted": true,
        "id": "dpdDHx_-vtd3"
      },
      "execution_count": null,
      "outputs": []
    },
    {
      "cell_type": "code",
      "source": [
        "for k in history.keys():\n",
        "    history[k] += h2.history[k]\n",
        "\n",
        "epoch_range = range(1, len(history['loss'])+1)\n",
        "\n",
        "plt.figure(figsize=[14,4])\n",
        "plt.subplot(1,2,1)\n",
        "plt.plot(epoch_range, history['loss'], label='Training')\n",
        "plt.plot(epoch_range, history['val_loss'], label='Validation')\n",
        "plt.xlabel('Epoch'); plt.ylabel('Loss'); plt.title('Loss')\n",
        "plt.legend()\n",
        "plt.subplot(1,2,2)\n",
        "plt.plot(epoch_range, history['accuracy'], label='Training')\n",
        "plt.plot(epoch_range, history['val_accuracy'], label='Validation')\n",
        "plt.xlabel('Epoch'); plt.ylabel('Accuracy'); plt.title('Accuracy')\n",
        "plt.legend()\n",
        "plt.tight_layout()\n",
        "plt.show()"
      ],
      "metadata": {
        "execution": {
          "iopub.status.busy": "2021-11-15T14:40:28.712864Z",
          "iopub.execute_input": "2021-11-15T14:40:28.713524Z",
          "iopub.status.idle": "2021-11-15T14:40:29.174261Z",
          "shell.execute_reply.started": "2021-11-15T14:40:28.713485Z",
          "shell.execute_reply": "2021-11-15T14:40:29.173433Z"
        },
        "trusted": true,
        "id": "s0Oj9TLYvtd4"
      },
      "execution_count": null,
      "outputs": []
    },
    {
      "cell_type": "code",
      "source": [
        "from sklearn.metrics import classification_report, confusion_matrix\n",
        "y_pred = cnn.predict(X_valid,batch_size=32)\n",
        "pred_class = np.argmax(y_pred, axis=-1)\n",
        "print(classification_report(y_valid, pred_class))\n",
        "print(confusion_matrix(y_valid, pred_class))\n"
      ],
      "metadata": {
        "id": "MYVNcwxuvBvH"
      },
      "execution_count": null,
      "outputs": []
    }
  ]
}